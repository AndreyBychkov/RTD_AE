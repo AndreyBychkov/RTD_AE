{
 "cells": [
  {
   "cell_type": "markdown",
   "metadata": {
    "id": "so9R0B2ckeKT"
   },
   "source": [
    "# Differentiating MTD"
   ]
  },
  {
   "cell_type": "markdown",
   "metadata": {
    "id": "NM1bVX68k7Ah"
   },
   "source": [
    "# Auxilary part (import common dependencies)"
   ]
  },
  {
   "cell_type": "code",
   "execution_count": 1,
   "metadata": {
    "colab": {
     "base_uri": "https://localhost:8080/"
    },
    "id": "k1d1rKfmk1i3",
    "outputId": "147dc56e-51f7-4c6e-86b6-7da50ad9d286"
   },
   "outputs": [
    {
     "name": "stdout",
     "output_type": "stream",
     "text": [
      "Collecting git+https://github.com/ArGintum/giotto-ph-ench.git\n",
      "  Cloning https://github.com/ArGintum/giotto-ph-ench.git to /tmp/pip-req-build-1evxdq6j\n",
      "  Running command git clone -q https://github.com/ArGintum/giotto-ph-ench.git /tmp/pip-req-build-1evxdq6j\n",
      "  Running command git submodule update --init --recursive -q\n",
      "Requirement already satisfied: numpy>=1.19.1 in /usr/local/lib/python3.7/dist-packages (from giotto-ph==0.1.0) (1.19.5)\n",
      "Requirement already satisfied: scipy>=1.4.0 in /usr/local/lib/python3.7/dist-packages (from giotto-ph==0.1.0) (1.4.1)\n",
      "Requirement already satisfied: scikit-learn>=0.22.0 in /usr/local/lib/python3.7/dist-packages (from giotto-ph==0.1.0) (0.22.2.post1)\n",
      "Requirement already satisfied: joblib>=0.11 in /usr/local/lib/python3.7/dist-packages (from scikit-learn>=0.22.0->giotto-ph==0.1.0) (1.0.1)\n",
      "Building wheels for collected packages: giotto-ph\n",
      "  Building wheel for giotto-ph (setup.py) ... \u001b[?25l\u001b[?25hdone\n",
      "  Created wheel for giotto-ph: filename=giotto_ph-0.1.0-cp37-cp37m-linux_x86_64.whl size=373842 sha256=a6b2d662d68929cc67c42df8e96ba83ebb42e9a7527201751b24d0ab6ef3ace3\n",
      "  Stored in directory: /tmp/pip-ephem-wheel-cache-tisfb5_s/wheels/c2/a7/47/ab3f5ca9f1e2eeb56d9e8cda1c5bd6e0330693b37a003ca936\n",
      "Successfully built giotto-ph\n",
      "Installing collected packages: giotto-ph\n",
      "Successfully installed giotto-ph-0.1.0\n"
     ]
    }
   ],
   "source": [
    "## \n",
    "## This code uses modification of Giotto-PH (with properly enabled usage for cross-barcodes and\n",
    "##                                           with output of simplex pairs)\n",
    "##\n",
    "## For any usage of code from this notebook this package MUST be installed\n",
    "\n",
    "!pip install git+https://github.com/ArGintum/giotto-ph-ench.git"
   ]
  },
  {
   "cell_type": "code",
   "execution_count": 6,
   "metadata": {
    "id": "TLD4RcHXmKTw"
   },
   "outputs": [],
   "source": [
    "%matplotlib inline\n",
    "\n",
    "import itertools\n",
    "import numpy as np\n",
    "import matplotlib.pyplot as plt\n",
    "\n",
    "from gph.python import ripser_parallel"
   ]
  },
  {
   "cell_type": "markdown",
   "metadata": {
    "id": "WTVMKAjZkj1f"
   },
   "source": [
    "## Tensorflow implementation"
   ]
  },
  {
   "cell_type": "code",
   "execution_count": 3,
   "metadata": {
    "id": "nTzMHNg-kcXV"
   },
   "outputs": [],
   "source": [
    "import tensorflow as tf\n",
    "\n",
    "#### For usage in any app copy this cell 'As is'\n",
    "\n",
    "def Rips(DX, dim, card):\n",
    "    # Parameters: DX (distance matrix), \n",
    "    #             dim (homological dimension), \n",
    "    #             card (number of persistence diagram points, sorted by distance-to-diagonal)\n",
    "    if dim > 0:\n",
    "      adj_dim = dim\n",
    "    else:\n",
    "      adj_dim = 1    \n",
    "    rc = ripser_parallel(DX, maxdim=adj_dim, metric=\"precomputed\", collapse_edges=False)\n",
    "\n",
    "    dgm = rc['dgms'][dim]\n",
    "    pairs = rc['pairs'][dim]\n",
    "\n",
    "    # Retrieve vertices v_a and v_b by picking the ones achieving the maximal\n",
    "    # distance among all pairwise distances between the simplex vertices\n",
    "    indices, pers = [], []\n",
    "    for i in range(len(pairs)):\n",
    "        s1, s2 = pairs[i]\n",
    "        if len(s1) == dim+1 and len(s2) > 0:\n",
    "            l1, l2 = np.array(s1), np.array(s2)\n",
    "            i1 = [s1[v] for v in np.unravel_index(np.argmax(DX[l1,:][:,l1]),[len(s1), len(s1)])]\n",
    "            i2 = [s2[v] for v in np.unravel_index(np.argmax(DX[l2,:][:,l2]),[len(s2), len(s2)])]\n",
    "            indices += i1\n",
    "            indices += i2\n",
    "            pers.append(dgm[i][1] - dgm[i][0])\n",
    "    \n",
    "    # Sort points with distance-to-diagonal\n",
    "    perm = np.argsort(pers)\n",
    "    indices = list(np.reshape(indices, [-1,4])[perm][::-1,:].flatten())\n",
    "    \n",
    "    # Output indices\n",
    "    indices = indices[:4*card] + [0 for _ in range(0,max(0,4*card-len(indices)))]\n",
    "    return list(np.array(indices, dtype=np.int32))\n",
    "\n",
    "class RipsModel(tf.keras.Model):\n",
    "    def __init__(self, X, referent_cloud=None, dim=1, card=50):\n",
    "        super(RipsModel, self).__init__()\n",
    "        self.X = X\n",
    "        self.dim = dim\n",
    "        self.card = card\n",
    "        self.referent_cloud = referent_cloud\n",
    "        \n",
    "    def call(self):\n",
    "        d, c = self.dim, self.card\n",
    "\n",
    "        # Compute distance matrix\n",
    "        Daa = tf.math.sqrt(tf.reduce_sum((tf.expand_dims(self.X, 1)-tf.expand_dims(self.X, 0))**2, 2))\n",
    "\n",
    "        if self.referent_cloud is not None:\n",
    "          Dab = tf.math.sqrt(tf.reduce_sum((tf.expand_dims(self.X, 1)-tf.expand_dims(self.referent_cloud, 0))**2, 2))\n",
    "          Dzz = tf.zeros((len(self.referent_cloud), len(self.referent_cloud)))\n",
    "          DX = tf.concat((tf.concat((Daa, Dab), axis=1), tf.concat((tf.transpose(Dab), Dzz), axis=1)), axis=0)\n",
    "        else:\n",
    "          DX = Daa\n",
    "\n",
    "        DXX = tf.reshape(DX, [1, DX.shape[0], DX.shape[1]])\n",
    "        \n",
    "        # Turn numpy function into tensorflow function\n",
    "        RipsTF = lambda DX: tf.numpy_function(Rips, [DX, d, c], [tf.int32 for _ in range(4*c)])\n",
    "        \n",
    "        # Compute vertices associated to positive and negative simplices \n",
    "        # Don't compute gradient for this operation\n",
    "        ids = tf.nest.map_structure(tf.stop_gradient, tf.map_fn(RipsTF,DXX,dtype=[tf.int32 for _ in range(4*c)]))\n",
    "        \n",
    "        # Get persistence diagram by simply picking the corresponding entries in the distance matrix\n",
    "        if d > 0:\n",
    "            dgm = tf.reshape(tf.gather_nd(DX, tf.reshape(ids, [2*c,2])), [c,2])\n",
    "        else:\n",
    "            ids = tf.reshape(ids, [2*c,2])[1::2,:]\n",
    "            dgm = tf.concat([tf.zeros([c,1]), tf.reshape(tf.gather_nd(DX, ids), [c,1])], axis=1)\n",
    "        return dgm"
   ]
  },
  {
   "cell_type": "markdown",
   "metadata": {
    "id": "6jsxhMEYn4n_"
   },
   "source": [
    "### How to use this (example):"
   ]
  },
  {
   "cell_type": "code",
   "execution_count": 4,
   "metadata": {
    "id": "jgJqJ54QoCeG"
   },
   "outputs": [],
   "source": [
    "np.random.seed(1)\n",
    "Xinit = np.array(np.random.uniform(high=1., low=-1., size=(60,2)), dtype=np.float32) # Small cloud sampled\n",
    "seeds = np.array(np.random.uniform(high = 2 * np.pi, low = 0, size = (300)), dtype=np.float32)\n",
    "Xref = 0.5 * np.array([np.cos(seeds), np.sin(seeds)],  dtype=np.float32).transpose() # Big cloud sampled"
   ]
  },
  {
   "cell_type": "code",
   "execution_count": 5,
   "metadata": {
    "id": "SguoisNOqA1s"
   },
   "outputs": [],
   "source": [
    "### Increasing total length of H1 intervals\n",
    "\n",
    "X = tf.Variable(initial_value=Xinit, trainable=True) # Turning array of points into variable that can be modified by Tensorflow autogradient\n",
    "\n",
    "model = RipsModel(X=X, referent_cloud=Xref, dim=1, card=100) # Parameters of RipsModel():\n",
    "                                                             # X              - for small cloud\n",
    "                                                             # referent_cloud - for big cloud. Can be omitted, in this case \"normal\" barcode of cloud X will be calculated\n",
    "                                                             # dim            - only persistence pairs of this dimension (one number) will be considered\n",
    "                                                             # card           - \n",
    "\n",
    "lr = tf.keras.optimizers.schedules.InverseTimeDecay(initial_learning_rate=1e-1, decay_steps=10, decay_rate=.01) # Experimentally found best possible options, maybe should be slightly change for specific tasks\n",
    "optimizer = tf.keras.optimizers.SGD(learning_rate=lr, momentum=0.)                                              #\n",
    "sigma = 0.001     # Points are moved according to \"blured\" gradients (gradients + Gaussian noise) in order to prevent stacking in local minimums. Can be omitted by setting sigma = 0.\n",
    "\n",
    "losses, dgms = [], []\n",
    "\n",
    "EPOCHS = 101    # Number of steps\n",
    "for epoch in range(EPOCHS):\n",
    "    with tf.GradientTape() as tape:\n",
    "        dgm = model.call()\n",
    "        dgm = dgm[dgm[:, 1] > 0]\n",
    "        loss = -tf.math.reduce_sum(dgm[:,1]-dgm[:,0]) # Increasing total length of H1 intervals        \n",
    "\n",
    "    gradients = tape.gradient(loss, model.trainable_variables)\n",
    "    np.random.seed(epoch)\n",
    "    gradients[0] = gradients[0] + np.random.normal(loc=0., scale=sigma, size=gradients[0].shape) # Bluring the gradients\n",
    "    optimizer.apply_gradients(zip(gradients, model.trainable_variables))\n",
    "    losses.append(loss.numpy())\n",
    "    dgms.append(dgm)"
   ]
  },
  {
   "cell_type": "code",
   "execution_count": 8,
   "metadata": {
    "colab": {
     "base_uri": "https://localhost:8080/",
     "height": 408
    },
    "id": "4uOOOnQP4lhB",
    "outputId": "86bd6557-40d4-4ea9-e11b-048a3f288d26"
   },
   "outputs": [
    {
     "data": {
      "text/plain": [
       "Text(0.5, 1.0, 'Cloud after 101 iterations')"
      ]
     },
     "execution_count": 8,
     "metadata": {},
     "output_type": "execute_result"
    },
    {
     "data": {
      "image/png": "[encoded data removed]",
      "text/plain": [
       "<Figure size 1008x432 with 2 Axes>"
      ]
     },
     "metadata": {
      "needs_background": "light"
     },
     "output_type": "display_data"
    }
   ],
   "source": [
    "fig, (ax1, ax2) = plt.subplots(1, 2, figsize=(14,6))\n",
    "\n",
    "ax1.scatter(Xref[:,0], Xref[:,1], c='r')\n",
    "ax1.scatter(Xinit[:,0], Xinit[:,1])\n",
    "ax1.set_title('Cloud prior to transformation')\n",
    "\n",
    "ax2.scatter(Xref[:,0], Xref[:,1], c='r')\n",
    "ax2.scatter(model.X.numpy()[:,0], model.X.numpy()[:,1])\n",
    "ax2.set_title('Cloud after ' + str(epoch + 1) + ' iterations')"
   ]
  },
  {
   "cell_type": "markdown",
   "metadata": {
    "id": "Tn7srVPzn9o_"
   },
   "source": [
    "**NOTES:**\n",
    "\n",
    " - ```model.call()``` return persistence pairs as array of shape ```card```$ \\times 2$. Elements of each pair represent birth/death moments derived from points positions in Tensorflow compputational graph for autogradient.\n",
    "\n",
    " - Transformed cloud (result) can be found at ```model.X.numpy()```\n",
    "\n",
    " - Known issues:\n",
    "   1. Do NOT use ```dgm[i,0]``` when working with $H_0$ (birth moments of 0-dimensional persistence pairs are always zero anyways) - it will ruin everything. Birth moments in this case are fictional and don't depend on points positions, thus autogradient may fail. So, for decreasing total length of $H_0$ persistence intervals may be used (for example):\n",
    "      \n",
    "      ```\n",
    "      loss = tf.math.reduce_sum(dgm[:,1])\n",
    "      ```\n",
    "  2. If there are less persistence pairs than ```card``` parameter states, last lines of ```model.call()``` output (as it is always contains ```card``` pairs) will be filled with ```(0, 0)```. Thats why line ```dgm = dgm[dgm[:, 1] > 0]``` is needed - it cuts that tail away.\n",
    "  \n",
    "- Some examples of loss functions:\n",
    "  - For decreasing total length of $H_1$ intervals may be used \n",
    "    \n",
    "    ``` loss = tf.math.reduce_sum(dgm[:,1]-dgm[:,0])```\n",
    "  - For increasing birth moments of $H_1$ intervals may be used\n",
    "\n",
    "    ```loss = -tf.math.reduce_sum(dgm[:,0])```\n",
    "  - For increasing death moments of $H_1$ intervals may be used\n",
    "\n",
    "    ```loss = tf.math.reduce_sum(dgm[:,1])```\n"
   ]
  },
  {
   "cell_type": "markdown",
   "metadata": {
    "id": "PI-HmE1vmtXw"
   },
   "source": [
    "## PyTorch implementation"
   ]
  },
  {
   "cell_type": "code",
   "execution_count": 25,
   "metadata": {
    "id": "v1z1OUkGmv-4"
   },
   "outputs": [],
   "source": [
    "import torch\n",
    "import torch.nn as nn\n",
    "\n",
    "#### For usage in any app copy this cell 'As is'\n",
    "\n",
    "def Rips(DX, dim, card):\n",
    "    # Parameters: DX (distance matrix), \n",
    "    #             dim (homological dimension), \n",
    "    #             card (number of persistence diagram points, sorted by distance-to-diagonal)\n",
    "    if dim > 0:\n",
    "      adj_dim = dim\n",
    "    else:\n",
    "      adj_dim = 1    \n",
    "    rc = ripser_parallel(DX, maxdim=adj_dim, metric=\"precomputed\", collapse_edges=False)\n",
    "\n",
    "    dgm = rc['dgms'][dim]\n",
    "    pairs = rc['pairs'][dim]\n",
    "\n",
    "    # Retrieve vertices v_a and v_b by picking the ones achieving the maximal\n",
    "    # distance among all pairwise distances between the simplex vertices\n",
    "    indices, pers = [], []\n",
    "    for i in range(len(pairs)):\n",
    "        s1, s2 = pairs[i]\n",
    "        if len(s1) == dim+1 and len(s2) > 0:\n",
    "            l1, l2 = np.array(s1), np.array(s2)\n",
    "            i1 = [s1[v] for v in np.unravel_index(np.argmax(DX[l1,:][:,l1]),[len(s1), len(s1)])]\n",
    "            i2 = [s2[v] for v in np.unravel_index(np.argmax(DX[l2,:][:,l2]),[len(s2), len(s2)])]\n",
    "            indices += i1\n",
    "            indices += i2\n",
    "            pers.append(dgm[i][1] - dgm[i][0])\n",
    "    \n",
    "    # Sort points with distance-to-diagonal\n",
    "    perm = np.argsort(pers)\n",
    "    indices = list(np.reshape(indices, [-1,4])[perm][::-1,:].flatten())\n",
    "    \n",
    "    # Output indices\n",
    "    indices = indices[:4*card] + [0 for _ in range(0,max(0,4*card-len(indices)))]\n",
    "    return list(np.array(indices, dtype=np.int32))\n",
    "\n",
    "class RipsModel(nn.Module):\n",
    "    def __init__(self, X, referent_cloud=None, dim=1, card=50):\n",
    "        super(RipsModel, self).__init__()\n",
    "        self.X = X\n",
    "        self.dim = dim\n",
    "        self.card = card\n",
    "        self.referent_cloud = referent_cloud\n",
    "        \n",
    "    def call(self):\n",
    "        d, c = self.dim, self.card\n",
    "        \n",
    "        # Compute distance matrix\n",
    "        Daa = torch.cdist(self.X[None].flatten(2), self.X[None].flatten(2))[0]\n",
    "\n",
    "        if self.referent_cloud is not None:\n",
    "          Dab = torch.sqrt(torch.sum((torch.unsqueeze(self.X, 1) - torch.unsqueeze(self.referent_cloud, 0))**2, 2))\n",
    "          Dzz = torch.zeros((len(self.referent_cloud), len(self.referent_cloud)))\n",
    "          DX = torch.cat((torch.cat((Daa, Dab), 1), torch.cat((torch.transpose(Dab, 1, 0), Dzz), 1)), 0)\n",
    "        else:\n",
    "          DX = Daa\n",
    "        \n",
    "        # Compute vertices associated to positive and negative simplices \n",
    "        # Don't compute gradient for this operation\n",
    "        ids = np.array(Rips(DX.detach(), self.dim, self.card), dtype=np.long)\n",
    "        \n",
    "        # Get persistence diagram by simply picking the corresponding entries in the distance matrix\n",
    "        if d > 0:\n",
    "            tmp_idx = np.reshape(ids, [2*c,2])\n",
    "            dgm = torch.reshape(DX[tmp_idx[:, 0], tmp_idx[:, 1]], [c,2])\n",
    "        else:\n",
    "            tmp_idx = np.reshape(ids, [2*c,2])[1::2,:]\n",
    "            dgm = torch.cat([torch.zeros([c,1]), torch.reshape(DX[tmp_idx[:,0], tmp_idx[:,1]], [c,1])], 1)\n",
    "        return dgm"
   ]
  },
  {
   "cell_type": "markdown",
   "metadata": {
    "id": "lNyb_-9VBsBp"
   },
   "source": [
    "### How to use this (example)"
   ]
  },
  {
   "cell_type": "code",
   "execution_count": 52,
   "metadata": {
    "id": "MoeKc27f73vQ"
   },
   "outputs": [],
   "source": [
    "np.random.seed(1)\n",
    "Xinit = np.array(np.random.uniform(high=1., low=-1., size=(60,2)), dtype=np.float32) # Small cloud sampled\n",
    "seeds = np.array(np.random.uniform(high = 2 * np.pi, low = 0, size = (300)), dtype=np.float32)\n",
    "Xref = 0.5 * np.array([np.cos(seeds), np.sin(seeds)],  dtype=np.float32).transpose() # Big cloud sampled"
   ]
  },
  {
   "cell_type": "code",
   "execution_count": 54,
   "metadata": {
    "id": "_xNXAvTM9LW7"
   },
   "outputs": [],
   "source": [
    "### Increasing total length of H1 intervals\n",
    "\n",
    "X = torch.tensor(Xinit, requires_grad=True) # Turning array of points into variable that can be modified by Tensorflow autogradient\n",
    "\n",
    "model = RipsModel(X=X, referent_cloud=torch.Tensor(Xref), dim=1, card=100) # Parameters of RipsModel():\n",
    "                                                             # X              - for small cloud\n",
    "                                                             # referent_cloud - for big cloud. Can be omitted, in this case \"normal\" barcode of cloud X will be calculated\n",
    "                                                             # dim            - only persistence pairs of this dimension (one number) will be considered\n",
    "                                                             # card           - \n",
    "\n",
    "lr = tf.keras.optimizers.schedules.InverseTimeDecay(initial_learning_rate=1e-1, decay_steps=10, decay_rate=.01) # Learning rate and optimizer are\n",
    "optimizer = torch.optim.SGD([X], lr = 1e-1, momentum=0.)\n",
    "lambda_1 = lambda epoch: 1 / (1 + 0.001 * epoch)\n",
    "scheduler = torch.optim.lr_scheduler.LambdaLR(optimizer, lr_lambda=[lambda_1])\n",
    "sigma = 0.001     # Points are moved according to \"blured\" gradients (gradients + Gaussian noise) in order to prevent stacking in local minimums. Can be omitted by setting sigma = 0.\n",
    "\n",
    "losses, dgms = [], []\n",
    "\n",
    "EPOCHS = 101    # Number of steps\n",
    "for epoch in range(EPOCHS):\n",
    "    dgm = model.call()\n",
    "    dgm = dgm[dgm[:, 1] > 0]\n",
    "    loss = -torch.sum(dgm[:,1]-dgm[:,0]) # Increasing total length of H1 intervals        \n",
    "\n",
    "    np.random.seed(epoch)\n",
    "    X.register_hook(lambda grad: grad + np.random.normal(loc=0., scale=sigma, size=X.shape).astype(np.float32))\n",
    "\n",
    "    loss.backward()\n",
    "    optimizer.step()\n",
    "    scheduler.step()\n",
    "\n",
    "    losses.append(loss.detach().numpy())\n",
    "    dgms.append(dgm)\n",
    "    X.grad.zero_()"
   ]
  },
  {
   "cell_type": "code",
   "execution_count": 55,
   "metadata": {
    "colab": {
     "base_uri": "https://localhost:8080/",
     "height": 408
    },
    "id": "TD2wUHCEE6H3",
    "outputId": "a65da8be-9e2c-4910-e984-365eacdce0e0"
   },
   "outputs": [
    {
     "data": {
      "text/plain": [
       "Text(0.5, 1.0, 'Cloud after 101 iterations')"
      ]
     },
     "execution_count": 55,
     "metadata": {},
     "output_type": "execute_result"
    },
    {
     "data": {
      "image/png": "[encoded data removed]",
      "text/plain": [
       "<Figure size 1008x432 with 2 Axes>"
      ]
     },
     "metadata": {
      "needs_background": "light"
     },
     "output_type": "display_data"
    }
   ],
   "source": [
    "fig, (ax1, ax2) = plt.subplots(1, 2, figsize=(14,6))\n",
    "\n",
    "ax1.scatter(Xref[:,0], Xref[:,1], c='r')\n",
    "ax1.scatter(Xinit[:,0], Xinit[:,1])\n",
    "ax1.set_title('Cloud prior to transformation')\n",
    "\n",
    "ax2.scatter(Xref[:,0], Xref[:,1], c='r')\n",
    "ax2.scatter(model.X.detach().numpy()[:,0], model.X.detach().numpy()[:,1])\n",
    "ax2.set_title('Cloud after ' + str(epoch + 1) + ' iterations')"
   ]
  },
  {
   "cell_type": "code",
   "execution_count": 57,
   "metadata": {
    "colab": {
     "base_uri": "https://localhost:8080/",
     "height": 406
    },
    "id": "OsCh0mdQFqsa",
    "outputId": "9f5fd9a2-e842-45f3-a30c-e49517efe736"
   },
   "outputs": [
    {
     "data": {
      "text/plain": [
       "Text(0, 0.5, 'Total length of intervals in H1')"
      ]
     },
     "execution_count": 57,
     "metadata": {},
     "output_type": "execute_result"
    },
    {
     "data": {
      "image/png": "[encoded data removed]",
      "text/plain": [
       "<Figure size 864x432 with 1 Axes>"
      ]
     },
     "metadata": {
      "needs_background": "light"
     },
     "output_type": "display_data"
    }
   ],
   "source": [
    "plt.figure(figsize=(12,6))\n",
    "plt.plot(-np.array(losses))\n",
    "plt.xlabel('Iterations')\n",
    "plt.ylabel('Total length of intervals in H1')"
   ]
  },
  {
   "cell_type": "markdown",
   "metadata": {
    "id": "mQAKuo-tNIWW"
   },
   "source": [
    "**NOTES:**\n",
    "\n",
    " - ```model.call()``` return persistence pairs as array of shape ```card```$ \\times 2$. Elements of each pair represent birth/death moments derived from points positions in Tensorflow compputational graph for autogradient.\n",
    "\n",
    "- Transformed cloud (result) can be found at ```model.X.detach().numpy()```\n",
    "\n",
    "\n",
    " - Known issues:\n",
    "   1. Do NOT use ```dgm[i,0]``` when working with $H_0$ (birth moments of 0-dimensional persistence pairs are always zero anyways) - it will ruin everything. Birth moments in this case are fictional and don't depend on points positions, thus autogradient may fail. So, for decreasing total length of $H_0$ persistence intervals may be used (for example):\n",
    "      \n",
    "      ```\n",
    "      loss = torch.sum(dgm[:,1])\n",
    "      ```\n",
    "  2. If there are less persistence pairs than ```card``` parameter states, last lines of ```model.call()``` output (as it is always contains ```card``` pairs) will be filled with ```(0, 0)```. Thats why line ```dgm = dgm[dgm[:, 1] > 0]``` is needed - it cuts that tail away.\n",
    "  \n",
    "- Some examples of loss functions:\n",
    "  - For decreasing total length of $H_1$ intervals may be used \n",
    "    \n",
    "    ``` loss = torch.sum(dgm[:,1]-dgm[:,0])```\n",
    "  - For increasing birth moments of $H_1$ intervals may be used\n",
    "\n",
    "    ```loss = -torch.sum(dgm[:,0])```\n",
    "  - For increasing death moments of $H_1$ intervals may be used\n",
    "\n",
    "    ```loss = torch.sum(dgm[:,1])```\n"
   ]
  }
 ],
 "metadata": {
  "colab": {
   "name": "MTD_diff.ipynb",
   "provenance": []
  },
  "kernelspec": {
   "display_name": "Python 3 (ipykernel)",
   "language": "python",
   "name": "python3"
  },
  "language_info": {
   "codemirror_mode": {
    "name": "ipython",
    "version": 3
   },
   "file_extension": ".py",
   "mimetype": "text/x-python",
   "name": "python",
   "nbconvert_exporter": "python",
   "pygments_lexer": "ipython3",
   "version": "3.7.10"
  }
 },
 "nbformat": 4,
 "nbformat_minor": 1
}
